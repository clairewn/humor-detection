{
 "cells": [
  {
   "cell_type": "code",
   "execution_count": 25,
   "metadata": {},
   "outputs": [
    {
     "name": "stderr",
     "output_type": "stream",
     "text": [
      "[nltk_data] Downloading package stopwords to\n",
      "[nltk_data]     /home/izzylee/nltk_data...\n",
      "[nltk_data]   Package stopwords is already up-to-date!\n",
      "[nltk_data] Downloading package punkt to /home/izzylee/nltk_data...\n",
      "[nltk_data]   Package punkt is already up-to-date!\n"
     ]
    }
   ],
   "source": [
    "import pickle\n",
    "import re\n",
    "import nltk\n",
    "import string\n",
    "nltk.download('stopwords')\n",
    "nltk.download('punkt')\n",
    "from nltk.corpus import stopwords\n",
    "from nltk.tokenize import word_tokenize"
   ]
  },
  {
   "cell_type": "code",
   "execution_count": 2,
   "metadata": {},
   "outputs": [],
   "source": [
    "filename = \"X_train.pickle\"\n",
    "infile = open(filename, 'rb')"
   ]
  },
  {
   "cell_type": "code",
   "execution_count": 3,
   "metadata": {},
   "outputs": [],
   "source": [
    "new_dict = pickle.load(infile)"
   ]
  },
  {
   "cell_type": "code",
   "execution_count": 11,
   "metadata": {},
   "outputs": [
    {
     "name": "stdout",
     "output_type": "stream",
     "text": [
      "I was sat in traffic the other day. Got hit by a car.\n",
      "\n",
      "Whats the difference between a ginger fanny and a cricket ball? If you try really hard, Really really hard, You can eat a cricket ball.\n",
      "\n",
      "Money can't buy happiness, but I'd much rather cry in a mansion.\n",
      "\n",
      "2B or not 2B. That is the pencil.\n",
      "\n",
      "What's the difference between a Jew and a canoe? Canoes tip!\n",
      "\n",
      "I've just won 10 million on the lottery and decided to buy my local Chinese takeaway called 'Happiness'.\n",
      "\n",
      "Your move, philosophers.\n",
      "\n",
      "A man was hospitalized with 6 plastic horses up his ass. The doctor described his condition as stable.\n",
      "\n",
      "Just told my joke about Peter Pan again. Never gets old.\n",
      "\n",
      "Two blondes were driving to Disneyland and the exit sign reads: DISNEYLAND LEFT. They started crying and headed home.\n",
      "\n"
     ]
    }
   ],
   "source": [
    "for joke in new_dict[1:10]:\n",
    "    print(joke + '\\n')"
   ]
  },
  {
   "cell_type": "code",
   "execution_count": 16,
   "metadata": {},
   "outputs": [
    {
     "name": "stdout",
     "output_type": "stream",
     "text": [
      "i was sat in traffic the other day. got hit by a car.\n",
      "\n",
      "whats the difference between a ginger fanny and a cricket ball? if you try really hard, really really hard, you can eat a cricket ball.\n",
      "\n",
      "money can't buy happiness, but i'd much rather cry in a mansion.\n",
      "\n",
      "2b or not 2b. that is the pencil.\n",
      "\n",
      "what's the difference between a jew and a canoe? canoes tip!\n",
      "\n",
      "i've just won 10 million on the lottery and decided to buy my local chinese takeaway called 'happiness'.\n",
      "\n",
      "your move, philosophers.\n",
      "\n",
      "a man was hospitalized with 6 plastic horses up his ass. the doctor described his condition as stable.\n",
      "\n",
      "just told my joke about peter pan again. never gets old.\n",
      "\n",
      "two blondes were driving to disneyland and the exit sign reads: disneyland left. they started crying and headed home.\n",
      "\n"
     ]
    }
   ],
   "source": [
    "#changes everything to lowercase \n",
    "listLower = [item.lower() for item in new_dict]\n",
    "for joke in listLower[1:10]:\n",
    "    print(joke + '\\n')"
   ]
  },
  {
   "cell_type": "code",
   "execution_count": 20,
   "metadata": {},
   "outputs": [
    {
     "name": "stdout",
     "output_type": "stream",
     "text": [
      "my grandfather died recently , he spent his final years as a regular user of facebook .. we won't see the likes of him again . \n",
      "\n",
      "i was sat in traffic the other day . got hit by a car . \n",
      "\n",
      "whats the difference between a ginger fanny and a cricket ball ? if you try really hard , really really hard , you can eat a cricket ball . \n",
      "\n",
      "money can't buy happiness , but i'd much rather cry in a mansion . \n",
      "\n",
      "2b or not 2b . that is the pencil . \n",
      "\n",
      "what's the difference between a jew and a canoe ? canoes tip ! \n",
      "\n",
      "i've just won 10 million on the lottery and decided to buy my local chinese takeaway called 'happiness' . your move , philosophers . \n",
      "\n",
      "a man was hospitalized with 6 plastic horses up his ass . the doctor described his condition as stable . \n",
      "\n",
      "just told my joke about peter pan again . never gets old . \n",
      "\n",
      "two blondes were driving to disneyland and the exit sign reads : disneyland left . they started crying and headed home . \n",
      "\n"
     ]
    }
   ],
   "source": [
    "#separates punctuation from word\n",
    "separatePunct = []\n",
    "for joke in listLower:\n",
    "    separatePunct.append(re.sub(r\"([\\w/'+$\\s-]+|[^\\w/'+$\\s-]+)\\s*\", r\"\\1 \", joke))\n",
    "for joke in separatePunct[0:10]:\n",
    "    print(joke + '\\n')"
   ]
  },
  {
   "cell_type": "code",
   "execution_count": 42,
   "metadata": {},
   "outputs": [
    {
     "name": "stdout",
     "output_type": "stream",
     "text": [
      "13.875233052427474\n"
     ]
    }
   ],
   "source": [
    "#avg words per joke\n",
    "total_words = 0\n",
    "avg_words = 0\n",
    "total_jokes = len(separatePunct)\n",
    "punctuation = [\".\", \",\", \"!\", \"?\"]\n",
    "for joke in separatePunct:\n",
    "    tokenized_sent_count = word_tokenize(joke)\n",
    "\n",
    "    tokenized_sent_count = [''.join(c for c in s if c not in string.punctuation) for s in tokenized_sent_count]\n",
    "    tokenized_sent_count = [s for s in tokenized_sent_count if s]\n",
    "    total_words += len(tokenized_sent_count)\n",
    "avg_words = total_words/total_jokes\n",
    "print(avg_words)"
   ]
  },
  {
   "cell_type": "code",
   "execution_count": 60,
   "metadata": {},
   "outputs": [],
   "source": [
    "contractions = { \n",
    "\"ain't\": \"am not / are not / is not / has not / have not\",\n",
    "\"aren't\": \"are not / am not\",\n",
    "\"can't\": \"cannot\",\n",
    "\"can't've\": \"cannot have\",\n",
    "\"'cause\": \"because\",\n",
    "\"could've\": \"could have\",\n",
    "\"couldn't\": \"could not\",\n",
    "\"couldn't've\": \"could not have\",\n",
    "\"didn't\": \"did not\",\n",
    "\"doesn't\": \"does not\",\n",
    "\"don't\": \"do not\",\n",
    "\"hadn't\": \"had not\",\n",
    "\"hadn't've\": \"had not have\",\n",
    "\"hasn't\": \"has not\",\n",
    "\"haven't\": \"have not\",\n",
    "\"he'd\": \"he had / he would\",\n",
    "\"he'd've\": \"he would have\",\n",
    "\"he'll\": \"he shall / he will\",\n",
    "\"he'll've\": \"he shall have / he will have\",\n",
    "\"he's\": \"he has / he is\",\n",
    "\"how'd\": \"how did\",\n",
    "\"how'd'y\": \"how do you\",\n",
    "\"how'll\": \"how will\",\n",
    "\"how's\": \"how has / how is / how does\",\n",
    "\"i'd\": \"I had / I would\",\n",
    "\"i'd've\": \"I would have\",\n",
    "\"i'll\": \"I shall / I will\",\n",
    "\"i'll've\": \"I shall have / I will have\",\n",
    "\"i'm\": \"I am\",\n",
    "\"i've\": \"I have\",\n",
    "\"isn't\": \"is not\",\n",
    "\"it'd\": \"it had / it would\",\n",
    "\"it'd've\": \"it would have\",\n",
    "\"it'll\": \"it shall / it will\",\n",
    "\"it'll've\": \"it shall have / it will have\",\n",
    "\"it's\": \"it has / it is\",\n",
    "\"let's\": \"let us\",\n",
    "\"ma'am\": \"madam\",\n",
    "\"mayn't\": \"may not\",\n",
    "\"might've\": \"might have\",\n",
    "\"mightn't\": \"might not\",\n",
    "\"mightn't've\": \"might not have\",\n",
    "\"must've\": \"must have\",\n",
    "\"mustn't\": \"must not\",\n",
    "\"mustn't've\": \"must not have\",\n",
    "\"needn't\": \"need not\",\n",
    "\"needn't've\": \"need not have\",\n",
    "\"o'clock\": \"of the clock\",\n",
    "\"oughtn't\": \"ought not\",\n",
    "\"oughtn't've\": \"ought not have\",\n",
    "\"shan't\": \"shall not\",\n",
    "\"sha'n't\": \"shall not\",\n",
    "\"shan't've\": \"shall not have\",\n",
    "\"she'd\": \"she had / she would\",\n",
    "\"she'd've\": \"she would have\",\n",
    "\"she'll\": \"she shall / she will\",\n",
    "\"she'll've\": \"she shall have / she will have\",\n",
    "\"she's\": \"she has / she is\",\n",
    "\"should've\": \"should have\",\n",
    "\"shouldn't\": \"should not\",\n",
    "\"shouldn't've\": \"should not have\",\n",
    "\"so've\": \"so have\",\n",
    "\"so's\": \"so as / so is\",\n",
    "\"that'd\": \"that would / that had\",\n",
    "\"that'd've\": \"that would have\",\n",
    "\"that's\": \"that has / that is\",\n",
    "\"there'd\": \"there had / there would\",\n",
    "\"there'd've\": \"there would have\",\n",
    "\"there's\": \"there has / there is\",\n",
    "\"they'd\": \"they had / they would\",\n",
    "\"they'd've\": \"they would have\",\n",
    "\"they'll\": \"they shall / they will\",\n",
    "\"they'll've\": \"they shall have / they will have\",\n",
    "\"they're\": \"they are\",\n",
    "\"they've\": \"they have\",\n",
    "\"to've\": \"to have\",\n",
    "\"wasn't\": \"was not\",\n",
    "\"we'd\": \"we had / we would\",\n",
    "\"we'd've\": \"we would have\",\n",
    "\"we'll\": \"we will\",\n",
    "\"we'll've\": \"we will have\",\n",
    "\"we're\": \"we are\",\n",
    "\"we've\": \"we have\",\n",
    "\"weren't\": \"were not\",\n",
    "\"what'll\": \"what shall / what will\",\n",
    "\"what'll've\": \"what shall have / what will have\",\n",
    "\"what're\": \"what are\",\n",
    "\"what's\": \"what has / what is\",\n",
    "\"what've\": \"what have\",\n",
    "\"when's\": \"when has / when is\",\n",
    "\"when've\": \"when have\",\n",
    "\"where'd\": \"where did\",\n",
    "\"where's\": \"where has / where is\",\n",
    "\"where've\": \"where have\",\n",
    "\"who'll\": \"who shall / who will\",\n",
    "\"who'll've\": \"who shall have / who will have\",\n",
    "\"who's\": \"who has / who is\",\n",
    "\"who've\": \"who have\",\n",
    "\"why's\": \"why has / why is\",\n",
    "\"why've\": \"why have\",\n",
    "\"will've\": \"will have\",\n",
    "\"won't\": \"will not\",\n",
    "\"won't've\": \"will not have\",\n",
    "\"would've\": \"would have\",\n",
    "\"wouldn't\": \"would not\",\n",
    "\"wouldn't've\": \"would not have\",\n",
    "\"y'all\": \"you all\",\n",
    "\"y'all'd\": \"you all would\",\n",
    "\"y'all'd've\": \"you all would have\",\n",
    "\"y'all're\": \"you all are\",\n",
    "\"y'all've\": \"you all have\",\n",
    "\"you'd\": \"you had / you would\",\n",
    "\"you'd've\": \"you would have\",\n",
    "\"you'll\": \"you shall / you will\",\n",
    "\"you'll've\": \"you shall have / you will have\",\n",
    "\"you're\": \"you are\",\n",
    "\"you've\": \"you have\",\n",
    "}"
   ]
  },
  {
   "cell_type": "code",
   "execution_count": 74,
   "metadata": {},
   "outputs": [],
   "source": [
    "dict_decontracted = []"
   ]
  },
  {
   "cell_type": "code",
   "execution_count": 75,
   "metadata": {},
   "outputs": [],
   "source": [
    "#decontracts contractions\n",
    "contractions_re = re.compile('(%s)' % '|'.join(contractions.keys()))\n",
    "def expand_contractions(s, contractions=contractions):\n",
    "     def replace(match):\n",
    "         return contractions[match.group(0)]\n",
    "     return contractions_re.sub(replace, s)"
   ]
  },
  {
   "cell_type": "code",
   "execution_count": 76,
   "metadata": {},
   "outputs": [],
   "source": [
    "for joke in separatePunct:\n",
    "    dict_decontracted.append(expand_contractions(joke))"
   ]
  },
  {
   "cell_type": "code",
   "execution_count": 77,
   "metadata": {},
   "outputs": [
    {
     "name": "stdout",
     "output_type": "stream",
     "text": [
      "i was sat in traffic the other day . got hit by a car . \n",
      "\n",
      "whats the difference between a ginger fanny and a cricket ball ? if you try really hard , really really hard , you can eat a cricket ball . \n",
      "\n",
      "money cannot buy happiness , but I had / I would much rather cry in a mansion . \n",
      "\n",
      "2b or not 2b . that is the pencil . \n",
      "\n",
      "what has / what is the difference between a jew and a canoe ? canoes tip ! \n",
      "\n",
      "I have just won 10 million on the lottery and decided to buy my local chinese takeaway called 'happiness' . your move , philosophers . \n",
      "\n",
      "a man was hospitalized with 6 plastic horses up his ass . the doctor described his condition as stable . \n",
      "\n",
      "just told my joke about peter pan again . never gets old . \n",
      "\n",
      "two blondes were driving to disneyland and the exit sign reads : disneyland left . they started crying and headed home . \n",
      "\n"
     ]
    }
   ],
   "source": [
    "for joke in dict_decontracted[1:10]:\n",
    "    print(joke + '\\n')"
   ]
  },
  {
   "cell_type": "code",
   "execution_count": 89,
   "metadata": {},
   "outputs": [
    {
     "name": "stdout",
     "output_type": "stream",
     "text": [
      "['i', 'me', 'my', 'myself', 'we', 'our', 'ours', 'ourselves', 'you', \"you're\", \"you've\", \"you'll\", \"you'd\", 'your', 'yours', 'yourself', 'yourselves', 'he', 'him', 'his', 'himself', 'she', \"she's\", 'her', 'hers', 'herself', 'it', \"it's\", 'its', 'itself', 'they', 'them', 'their', 'theirs', 'themselves', 'what', 'which', 'who', 'whom', 'this', 'that', \"that'll\", 'these', 'those', 'am', 'is', 'are', 'was', 'were', 'be', 'been', 'being', 'have', 'has', 'had', 'having', 'do', 'does', 'did', 'doing', 'a', 'an', 'the', 'and', 'but', 'if', 'or', 'because', 'as', 'until', 'while', 'of', 'at', 'by', 'for', 'with', 'about', 'against', 'between', 'into', 'through', 'during', 'before', 'after', 'above', 'below', 'to', 'from', 'up', 'down', 'in', 'out', 'on', 'off', 'over', 'under', 'again', 'further', 'then', 'once', 'here', 'there', 'when', 'where', 'why', 'how', 'all', 'any', 'both', 'each', 'few', 'more', 'most', 'other', 'some', 'such', 'no', 'nor', 'not', 'only', 'own', 'same', 'so', 'than', 'too', 'very', 's', 't', 'can', 'will', 'just', 'don', \"don't\", 'should', \"should've\", 'now', 'd', 'll', 'm', 'o', 're', 've', 'y', 'ain', 'aren', \"aren't\", 'couldn', \"couldn't\", 'didn', \"didn't\", 'doesn', \"doesn't\", 'hadn', \"hadn't\", 'hasn', \"hasn't\", 'haven', \"haven't\", 'isn', \"isn't\", 'ma', 'mightn', \"mightn't\", 'mustn', \"mustn't\", 'needn', \"needn't\", 'shan', \"shan't\", 'shouldn', \"shouldn't\", 'wasn', \"wasn't\", 'weren', \"weren't\", 'won', \"won't\", 'wouldn', \"wouldn't\"]\n"
     ]
    }
   ],
   "source": [
    "stop_words = set(stopwords.words('english'))\n",
    "print(stopwords.words('english'))"
   ]
  },
  {
   "cell_type": "code",
   "execution_count": 92,
   "metadata": {},
   "outputs": [
    {
     "name": "stdout",
     "output_type": "stream",
     "text": [
      "[['i', 'was', 'sat', 'in', 'traffic', 'the', 'other', 'day', '.', 'got', 'hit', 'by', 'a', 'car', '.'], ['whats', 'the', 'difference', 'between', 'a', 'ginger', 'fanny', 'and', 'a', 'cricket', 'ball', '?', 'if', 'you', 'try', 'really', 'hard', ',', 'really', 'really', 'hard', ',', 'you', 'can', 'eat', 'a', 'cricket', 'ball', '.'], ['money', 'can', 'not', 'buy', 'happiness', ',', 'but', 'I', 'had', '/', 'I', 'would', 'much', 'rather', 'cry', 'in', 'a', 'mansion', '.'], ['2b', 'or', 'not', '2b', '.', 'that', 'is', 'the', 'pencil', '.'], ['what', 'has', '/', 'what', 'is', 'the', 'difference', 'between', 'a', 'jew', 'and', 'a', 'canoe', '?', 'canoes', 'tip', '!'], ['I', 'have', 'just', 'won', '10', 'million', 'on', 'the', 'lottery', 'and', 'decided', 'to', 'buy', 'my', 'local', 'chinese', 'takeaway', 'called', \"'happiness\", \"'\", '.', 'your', 'move', ',', 'philosophers', '.'], ['a', 'man', 'was', 'hospitalized', 'with', '6', 'plastic', 'horses', 'up', 'his', 'ass', '.', 'the', 'doctor', 'described', 'his', 'condition', 'as', 'stable', '.'], ['just', 'told', 'my', 'joke', 'about', 'peter', 'pan', 'again', '.', 'never', 'gets', 'old', '.'], ['two', 'blondes', 'were', 'driving', 'to', 'disneyland', 'and', 'the', 'exit', 'sign', 'reads', ':', 'disneyland', 'left', '.', 'they', 'started', 'crying', 'and', 'headed', 'home', '.']]\n"
     ]
    }
   ],
   "source": [
    "#tokenizes each sentence by words\n",
    "tokenized_sent = [word_tokenize(joke) for joke in dict_decontracted]\n",
    "print(tokenized_sent[1:10])"
   ]
  },
  {
   "cell_type": "code",
   "execution_count": 97,
   "metadata": {},
   "outputs": [
    {
     "name": "stdout",
     "output_type": "stream",
     "text": [
      "[['sat', 'traffic', 'day', '.', 'got', 'hit', 'car', '.'], ['whats', 'difference', 'ginger', 'fanny', 'cricket', 'ball', '?', 'try', 'really', 'hard', ',', 'really', 'really', 'hard', ',', 'can', 'eat', 'cricket', 'ball', '.'], ['money', 'buy', 'happiness', ',', 'I', '/', 'I', 'would', 'much', 'rather', 'cry', 'mansion', '.'], ['2b', '2b', '.', 'pencil', '.'], ['/', 'difference', 'jew', 'canoe', '?', 'canoes', 'tip', '!'], ['I', '10', 'million', 'lottery', 'decided', 'buy', 'local', 'chinese', 'takeaway', 'called', \"'happiness\", \"'\", '.', 'move', ',', 'philosophers', '.'], ['man', 'hospitalized', '6', 'plastic', 'horses', 'ass', '.', 'doctor', 'described', 'condition', 'stable', '.'], ['told', 'joke', 'peter', 'pan', '.', 'never', 'gets', 'old', '.'], ['two', 'blondes', 'driving', 'disneyland', 'exit', 'sign', 'reads', ':', 'disneyland', 'left', '.', 'started', 'crying', 'headed', 'home', '.']]\n"
     ]
    }
   ],
   "source": [
    "filtered_sent = []\n",
    "for sent in tokenized_sent:\n",
    "    for word in sent:\n",
    "        if word in stop_words:\n",
    "            sent.remove(word)\n",
    "print(tokenized_sent[1:10])\n"
   ]
  },
  {
   "cell_type": "code",
   "execution_count": 5,
   "metadata": {},
   "outputs": [],
   "source": [
    "infile.close()"
   ]
  },
  {
   "cell_type": "code",
   "execution_count": null,
   "metadata": {},
   "outputs": [],
   "source": []
  }
 ],
 "metadata": {
  "kernelspec": {
   "display_name": "Python 3",
   "language": "python",
   "name": "python3"
  },
  "language_info": {
   "codemirror_mode": {
    "name": "ipython",
    "version": 3
   },
   "file_extension": ".py",
   "mimetype": "text/x-python",
   "name": "python",
   "nbconvert_exporter": "python",
   "pygments_lexer": "ipython3",
   "version": "3.7.4"
  }
 },
 "nbformat": 4,
 "nbformat_minor": 2
}
